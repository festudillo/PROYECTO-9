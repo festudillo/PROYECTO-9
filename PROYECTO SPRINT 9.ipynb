{
 "cells": [
  {
   "cell_type": "markdown",
   "metadata": {},
   "source": [
    "Hola !\n",
    "\n",
    "Mi nombre es Oscar Flores y me toca revisar tu proyecto de hoy. Si tienes algún comentario que quieras agregar en tus respuestas te puedes referir a mi como Oscar, no hay problema que me trates de tú.\n",
    "\n",
    "Si veo un error en la primera revisión solamente lo señalaré y dejaré que tú encuentres de qué se trata y cómo arreglarlo. Debo prepararte para que te desempeñes como especialista en Data, en un trabajo real, el responsable a cargo tuyo hará lo mismo. Si aún tienes dificultades para resolver esta tarea, te daré indicaciones más precisas en una siguiente iteración.\n",
    "\n",
    "Te dejaré mis comentarios más abajo - **por favor, no los muevas, modifiques o borres**\n",
    "\n",
    "Comenzaré mis comentarios con un resumen de los puntos que están bien, aquellos que debes corregir y aquellos que puedes mejorar. Luego deberás revisar todo el notebook para leer mis comentarios, los cuales estarán en rectángulos de color verde, amarillo o rojo como siguen:\n",
    "\n",
    "<div class=\"alert alert-block alert-success\">\n",
    "<b>Comentario de Reviewer</b> <a class=\"tocSkip\"></a>\n",
    "    \n",
    "Muy bien! Toda la respuesta fue lograda satisfactoriamente.\n",
    "</div>\n",
    "\n",
    "<div class=\"alert alert-block alert-warning\">\n",
    "<b>Comentario de Reviewer</b> <a class=\"tocSkip\"></a>\n",
    "\n",
    "Existen detalles a mejorar. Existen recomendaciones.\n",
    "</div>\n",
    "\n",
    "<div class=\"alert alert-block alert-danger\">\n",
    "\n",
    "<b>Comentario de Reviewer</b> <a class=\"tocSkip\"></a>\n",
    "\n",
    "Se necesitan correcciones en el bloque. El trabajo no puede ser aceptado con comentarios en rojo sin solucionar.\n",
    "</div>\n",
    "\n",
    "Cualquier comentario que quieras agregar entre iteraciones de revisión lo puedes hacer de la siguiente manera:\n",
    "\n",
    "<div class=\"alert alert-block alert-info\">\n",
    "<b>Respuesta estudiante.</b> <a class=\"tocSkip\"></a>\n",
    "</div>\n"
   ]
  },
  {
   "cell_type": "markdown",
   "metadata": {},
   "source": [
    "## Resumen de la revisión 1 <a class=\"tocSkip\"></a>"
   ]
  },
  {
   "cell_type": "markdown",
   "metadata": {},
   "source": [
    "<div class=\"alert alert-block alert-success\">\n",
    "<b>Comentario de Reviewer</b> <a class=\"tocSkip\"></a>\n",
    "\n",
    "Excelente trabajo! La verdad no tengo nada que señalar para que debas corregir, todo está muy bien. Tal vez le agregaría más análisis al inicio, pero solo eso. Felicitaciones!\n",
    "</div>"
   ]
  },
  {
   "cell_type": "markdown",
   "metadata": {},
   "source": [
    "---"
   ]
  },
  {
   "cell_type": "markdown",
   "metadata": {},
   "source": [
    "#### Introducción"
   ]
  },
  {
   "cell_type": "markdown",
   "metadata": {},
   "source": [
    "Los dueños de OilyGiant están interesados en encontrar el mejor lugar para un nuevo pozo utilizando los parámetros recolectados de los pozos de petróleo en tres regiones diferentes. Se requiere construir un modelo para predecir el volumen de reservas en los nuevos pozos y así, seleccionar los pozos de petróleo con los beneficios estimados más altos."
   ]
  },
  {
   "cell_type": "code",
   "execution_count": 1,
   "metadata": {},
   "outputs": [],
   "source": [
    "import pandas as pd\n",
    "import numpy as np\n",
    "import math\n",
    "import matplotlib.pyplot as plt\n",
    "from scipy import stats as st\n",
    "from joblib import dump\n",
    "\n",
    "from sklearn.tree import DecisionTreeClassifier\n",
    "from sklearn.ensemble import RandomForestClassifier\n",
    "from sklearn.linear_model import LogisticRegression\n",
    "from sklearn.linear_model import LinearRegression\n",
    "from sklearn.model_selection import train_test_split\n",
    "from sklearn.metrics import mean_squared_error\n",
    "from sklearn.metrics import confusion_matrix\n",
    "from sklearn.metrics import accuracy_score\n",
    "from sklearn.metrics import recall_score\n",
    "from sklearn.metrics import precision_score\n",
    "from sklearn.metrics import f1_score\n",
    "from sklearn.metrics import classification_report\n",
    "from sklearn.metrics import mean_absolute_error\n",
    "from sklearn.metrics import r2_score\n",
    "from sklearn.metrics import roc_curve\n",
    "from sklearn.preprocessing import OrdinalEncoder\n",
    "from sklearn.utils import shuffle\n",
    "from sklearn.metrics import roc_auc_score"
   ]
  },
  {
   "cell_type": "markdown",
   "metadata": {},
   "source": [
    "#### Preparación de datos"
   ]
  },
  {
   "cell_type": "code",
   "execution_count": 2,
   "metadata": {},
   "outputs": [],
   "source": [
    "data_0 = pd.read_csv('/datasets/geo_data_0.csv')\n",
    "data_1 = pd.read_csv('/datasets/geo_data_1.csv') \n",
    "data_2 = pd.read_csv('/datasets/geo_data_2.csv')"
   ]
  },
  {
   "cell_type": "code",
   "execution_count": 3,
   "metadata": {},
   "outputs": [
    {
     "name": "stdout",
     "output_type": "stream",
     "text": [
      "<class 'pandas.core.frame.DataFrame'>\n",
      "RangeIndex: 100000 entries, 0 to 99999\n",
      "Data columns (total 5 columns):\n",
      " #   Column   Non-Null Count   Dtype  \n",
      "---  ------   --------------   -----  \n",
      " 0   id       100000 non-null  object \n",
      " 1   f0       100000 non-null  float64\n",
      " 2   f1       100000 non-null  float64\n",
      " 3   f2       100000 non-null  float64\n",
      " 4   product  100000 non-null  float64\n",
      "dtypes: float64(4), object(1)\n",
      "memory usage: 3.8+ MB\n"
     ]
    }
   ],
   "source": [
    "data_0.info()"
   ]
  },
  {
   "cell_type": "code",
   "execution_count": 4,
   "metadata": {},
   "outputs": [
    {
     "data": {
      "text/html": [
       "<div>\n",
       "<style scoped>\n",
       "    .dataframe tbody tr th:only-of-type {\n",
       "        vertical-align: middle;\n",
       "    }\n",
       "\n",
       "    .dataframe tbody tr th {\n",
       "        vertical-align: top;\n",
       "    }\n",
       "\n",
       "    .dataframe thead th {\n",
       "        text-align: right;\n",
       "    }\n",
       "</style>\n",
       "<table border=\"1\" class=\"dataframe\">\n",
       "  <thead>\n",
       "    <tr style=\"text-align: right;\">\n",
       "      <th></th>\n",
       "      <th>id</th>\n",
       "      <th>f0</th>\n",
       "      <th>f1</th>\n",
       "      <th>f2</th>\n",
       "      <th>product</th>\n",
       "    </tr>\n",
       "  </thead>\n",
       "  <tbody>\n",
       "    <tr>\n",
       "      <th>8826</th>\n",
       "      <td>rjMou</td>\n",
       "      <td>1.797736</td>\n",
       "      <td>0.098212</td>\n",
       "      <td>6.148260</td>\n",
       "      <td>185.364347</td>\n",
       "    </tr>\n",
       "    <tr>\n",
       "      <th>99818</th>\n",
       "      <td>7cHIv</td>\n",
       "      <td>0.518445</td>\n",
       "      <td>-0.412790</td>\n",
       "      <td>4.951916</td>\n",
       "      <td>185.362690</td>\n",
       "    </tr>\n",
       "    <tr>\n",
       "      <th>94175</th>\n",
       "      <td>uCDzR</td>\n",
       "      <td>0.351428</td>\n",
       "      <td>-0.400244</td>\n",
       "      <td>7.227618</td>\n",
       "      <td>185.355615</td>\n",
       "    </tr>\n",
       "    <tr>\n",
       "      <th>1925</th>\n",
       "      <td>IfqrC</td>\n",
       "      <td>0.624430</td>\n",
       "      <td>-0.469312</td>\n",
       "      <td>5.753677</td>\n",
       "      <td>185.354980</td>\n",
       "    </tr>\n",
       "    <tr>\n",
       "      <th>45291</th>\n",
       "      <td>5FEPb</td>\n",
       "      <td>1.758787</td>\n",
       "      <td>-0.395038</td>\n",
       "      <td>6.719085</td>\n",
       "      <td>185.352015</td>\n",
       "    </tr>\n",
       "  </tbody>\n",
       "</table>\n",
       "</div>"
      ],
      "text/plain": [
       "          id        f0        f1        f2     product\n",
       "8826   rjMou  1.797736  0.098212  6.148260  185.364347\n",
       "99818  7cHIv  0.518445 -0.412790  4.951916  185.362690\n",
       "94175  uCDzR  0.351428 -0.400244  7.227618  185.355615\n",
       "1925   IfqrC  0.624430 -0.469312  5.753677  185.354980\n",
       "45291  5FEPb  1.758787 -0.395038  6.719085  185.352015"
      ]
     },
     "execution_count": 4,
     "metadata": {},
     "output_type": "execute_result"
    }
   ],
   "source": [
    "data_0.sort_values(by='product', ascending = False).head()"
   ]
  },
  {
   "cell_type": "code",
   "execution_count": 5,
   "metadata": {},
   "outputs": [
    {
     "data": {
      "text/html": [
       "<div>\n",
       "<style scoped>\n",
       "    .dataframe tbody tr th:only-of-type {\n",
       "        vertical-align: middle;\n",
       "    }\n",
       "\n",
       "    .dataframe tbody tr th {\n",
       "        vertical-align: top;\n",
       "    }\n",
       "\n",
       "    .dataframe thead th {\n",
       "        text-align: right;\n",
       "    }\n",
       "</style>\n",
       "<table border=\"1\" class=\"dataframe\">\n",
       "  <thead>\n",
       "    <tr style=\"text-align: right;\">\n",
       "      <th></th>\n",
       "      <th>id</th>\n",
       "      <th>f0</th>\n",
       "      <th>f1</th>\n",
       "      <th>f2</th>\n",
       "      <th>product</th>\n",
       "    </tr>\n",
       "  </thead>\n",
       "  <tbody>\n",
       "    <tr>\n",
       "      <th>53864</th>\n",
       "      <td>MzRzn</td>\n",
       "      <td>2.901352</td>\n",
       "      <td>-3.475398</td>\n",
       "      <td>5.001393</td>\n",
       "      <td>137.945408</td>\n",
       "    </tr>\n",
       "    <tr>\n",
       "      <th>97083</th>\n",
       "      <td>nW6eC</td>\n",
       "      <td>-4.030430</td>\n",
       "      <td>-14.020643</td>\n",
       "      <td>5.009571</td>\n",
       "      <td>137.945408</td>\n",
       "    </tr>\n",
       "    <tr>\n",
       "      <th>88340</th>\n",
       "      <td>xwJzQ</td>\n",
       "      <td>-3.373117</td>\n",
       "      <td>-9.227661</td>\n",
       "      <td>4.994369</td>\n",
       "      <td>137.945408</td>\n",
       "    </tr>\n",
       "    <tr>\n",
       "      <th>64879</th>\n",
       "      <td>Xd8DC</td>\n",
       "      <td>-5.360281</td>\n",
       "      <td>-2.388204</td>\n",
       "      <td>5.001439</td>\n",
       "      <td>137.945408</td>\n",
       "    </tr>\n",
       "    <tr>\n",
       "      <th>7288</th>\n",
       "      <td>Stdrb</td>\n",
       "      <td>-8.058661</td>\n",
       "      <td>-2.244840</td>\n",
       "      <td>5.000753</td>\n",
       "      <td>137.945408</td>\n",
       "    </tr>\n",
       "  </tbody>\n",
       "</table>\n",
       "</div>"
      ],
      "text/plain": [
       "          id        f0         f1        f2     product\n",
       "53864  MzRzn  2.901352  -3.475398  5.001393  137.945408\n",
       "97083  nW6eC -4.030430 -14.020643  5.009571  137.945408\n",
       "88340  xwJzQ -3.373117  -9.227661  4.994369  137.945408\n",
       "64879  Xd8DC -5.360281  -2.388204  5.001439  137.945408\n",
       "7288   Stdrb -8.058661  -2.244840  5.000753  137.945408"
      ]
     },
     "execution_count": 5,
     "metadata": {},
     "output_type": "execute_result"
    }
   ],
   "source": [
    "data_1.sort_values(by='product', ascending = False).head()"
   ]
  },
  {
   "cell_type": "code",
   "execution_count": 6,
   "metadata": {},
   "outputs": [
    {
     "data": {
      "text/html": [
       "<div>\n",
       "<style scoped>\n",
       "    .dataframe tbody tr th:only-of-type {\n",
       "        vertical-align: middle;\n",
       "    }\n",
       "\n",
       "    .dataframe tbody tr th {\n",
       "        vertical-align: top;\n",
       "    }\n",
       "\n",
       "    .dataframe thead th {\n",
       "        text-align: right;\n",
       "    }\n",
       "</style>\n",
       "<table border=\"1\" class=\"dataframe\">\n",
       "  <thead>\n",
       "    <tr style=\"text-align: right;\">\n",
       "      <th></th>\n",
       "      <th>id</th>\n",
       "      <th>f0</th>\n",
       "      <th>f1</th>\n",
       "      <th>f2</th>\n",
       "      <th>product</th>\n",
       "    </tr>\n",
       "  </thead>\n",
       "  <tbody>\n",
       "    <tr>\n",
       "      <th>79705</th>\n",
       "      <td>UAhji</td>\n",
       "      <td>-2.747914</td>\n",
       "      <td>1.555227</td>\n",
       "      <td>3.342182</td>\n",
       "      <td>190.029838</td>\n",
       "    </tr>\n",
       "    <tr>\n",
       "      <th>93444</th>\n",
       "      <td>IB0JE</td>\n",
       "      <td>3.026506</td>\n",
       "      <td>1.344623</td>\n",
       "      <td>8.891243</td>\n",
       "      <td>190.013589</td>\n",
       "    </tr>\n",
       "    <tr>\n",
       "      <th>35099</th>\n",
       "      <td>2HeCn</td>\n",
       "      <td>2.848844</td>\n",
       "      <td>-1.701996</td>\n",
       "      <td>9.437101</td>\n",
       "      <td>190.011722</td>\n",
       "    </tr>\n",
       "    <tr>\n",
       "      <th>21943</th>\n",
       "      <td>dldNH</td>\n",
       "      <td>-2.500091</td>\n",
       "      <td>2.024392</td>\n",
       "      <td>6.291513</td>\n",
       "      <td>190.010982</td>\n",
       "    </tr>\n",
       "    <tr>\n",
       "      <th>37870</th>\n",
       "      <td>CpuBi</td>\n",
       "      <td>-0.686667</td>\n",
       "      <td>-3.219452</td>\n",
       "      <td>5.963290</td>\n",
       "      <td>190.010029</td>\n",
       "    </tr>\n",
       "  </tbody>\n",
       "</table>\n",
       "</div>"
      ],
      "text/plain": [
       "          id        f0        f1        f2     product\n",
       "79705  UAhji -2.747914  1.555227  3.342182  190.029838\n",
       "93444  IB0JE  3.026506  1.344623  8.891243  190.013589\n",
       "35099  2HeCn  2.848844 -1.701996  9.437101  190.011722\n",
       "21943  dldNH -2.500091  2.024392  6.291513  190.010982\n",
       "37870  CpuBi -0.686667 -3.219452  5.963290  190.010029"
      ]
     },
     "execution_count": 6,
     "metadata": {},
     "output_type": "execute_result"
    }
   ],
   "source": [
    "data_2.sort_values(by='product', ascending = False).head()"
   ]
  },
  {
   "cell_type": "markdown",
   "metadata": {},
   "source": [
    "Los datos están listos para ser utilizados en el entranamiento de los modelos para cada región. No es necesario hacerse cargo de datos faltantes o datos sin formato adecuado."
   ]
  },
  {
   "cell_type": "markdown",
   "metadata": {},
   "source": [
    "<div class=\"alert alert-block alert-success\">\n",
    "<b>Comentario de Reviewer</b> <a class=\"tocSkip\"></a>\n",
    "\n",
    "Correcto, los datos están completos\n",
    "</div>"
   ]
  },
  {
   "cell_type": "markdown",
   "metadata": {},
   "source": [
    "<div class=\"alert alert-block alert-warning\">\n",
    "<b>Comentario de Reviewer</b> <a class=\"tocSkip\"></a>\n",
    "\n",
    "Ojo con verificar si hay valores duplicados. Además, graficar histogramas o scatter plot de las variables puede servir para generar más entendimiento de los datos.\n",
    "</div>"
   ]
  },
  {
   "cell_type": "markdown",
   "metadata": {},
   "source": [
    "#### Entrenamiento del modelo para cada región"
   ]
  },
  {
   "cell_type": "markdown",
   "metadata": {},
   "source": [
    "El modelo más conveniente para entrenar es el de regresión lineal debido al tipo de datos recopilados en features y target."
   ]
  },
  {
   "cell_type": "code",
   "execution_count": 7,
   "metadata": {},
   "outputs": [],
   "source": [
    "target_0 = data_0['product']\n",
    "features_0 = data_0.drop(['id','product'], axis=1)"
   ]
  },
  {
   "cell_type": "code",
   "execution_count": 8,
   "metadata": {},
   "outputs": [],
   "source": [
    "target_1 = data_1['product']\n",
    "features_1 = data_1.drop(['id','product'], axis=1)"
   ]
  },
  {
   "cell_type": "code",
   "execution_count": 9,
   "metadata": {},
   "outputs": [],
   "source": [
    "target_2 = data_2['product']\n",
    "features_2 = data_2.drop(['id','product'], axis=1)"
   ]
  },
  {
   "cell_type": "markdown",
   "metadata": {},
   "source": [
    "Los datos colectados de características de los pozos y volumen estimado serán utilizados para generar el conjunto de entrenamiento y el conjunto de validación en una proporción de 75:25."
   ]
  },
  {
   "cell_type": "code",
   "execution_count": 10,
   "metadata": {},
   "outputs": [],
   "source": [
    "data_0_train_features, data_0_valid_features, data_0_train_target, data_0_valid_target = train_test_split(features_0, target_0, test_size=0.25, random_state=12345) \n",
    "data_1_train_features, data_1_valid_features, data_1_train_target, data_1_valid_target = train_test_split(features_1, target_1, test_size=0.25, random_state=12345) \n",
    "data_2_train_features, data_2_valid_features, data_2_train_target, data_2_valid_target = train_test_split(features_2, target_2, test_size=0.25, random_state=12345) "
   ]
  },
  {
   "cell_type": "code",
   "execution_count": 11,
   "metadata": {},
   "outputs": [],
   "source": [
    "model = LinearRegression()\n",
    "\n",
    "model.fit(data_0_train_features, data_0_train_target)\n",
    "model.fit(data_1_train_features, data_1_train_target)\n",
    "model.fit(data_2_train_features, data_2_train_target)\n",
    "\n",
    "predictions_valid_0 = model.predict(data_0_valid_features)\n",
    "predictions_valid_1 = model.predict(data_1_valid_features)\n",
    "predictions_valid_2 = model.predict(data_2_valid_features)"
   ]
  },
  {
   "cell_type": "markdown",
   "metadata": {},
   "source": [
    "<div class=\"alert alert-block alert-success\">\n",
    "<b>Comentario de Reviewer</b> <a class=\"tocSkip\"></a>\n",
    "\n",
    "Muy bien, correcta la divisón de datos y predicciones\n",
    "</div>"
   ]
  },
  {
   "cell_type": "markdown",
   "metadata": {},
   "source": [
    "El conjunto de datos de validación proporciona la base para los datos de predicción que se utilizarán en los pasos siguientes para cálculos de ganancias potenciales por región."
   ]
  },
  {
   "cell_type": "markdown",
   "metadata": {},
   "source": [
    "##### Cálculo del volumen promedio y RECM del modelo"
   ]
  },
  {
   "cell_type": "markdown",
   "metadata": {},
   "source": [
    "Se calcula la media de los datos de validación para identificar la diferencia promedio en el volumen de reservas de acuerdo con el modelo para cada región."
   ]
  },
  {
   "cell_type": "code",
   "execution_count": 12,
   "metadata": {},
   "outputs": [
    {
     "name": "stdout",
     "output_type": "stream",
     "text": [
      "Volumen promedio previsto de las reservas de la región 0: 95.01224887602382\n",
      "Volumen promedio previsto de las reservas de la región 1: 95.2329505925182\n",
      "Volumen promedio previsto de las reservas de la región 2: 94.96504596800489\n"
     ]
    }
   ],
   "source": [
    "target_mean_0 = predictions_valid_0.mean()\n",
    "target_mean_1 = predictions_valid_1.mean()\n",
    "target_mean_2 = predictions_valid_2.mean()\n",
    "print(\"Volumen promedio previsto de las reservas de la región 0:\", target_mean_0)\n",
    "print(\"Volumen promedio previsto de las reservas de la región 1:\", target_mean_1)\n",
    "print(\"Volumen promedio previsto de las reservas de la región 2:\", target_mean_2)"
   ]
  },
  {
   "cell_type": "markdown",
   "metadata": {},
   "source": [
    "Se calcular la RECM en los datos de validación para identificar la dispersión promedio del volumen de reservas de acuerdo con el modelo para cada región."
   ]
  },
  {
   "cell_type": "code",
   "execution_count": 13,
   "metadata": {},
   "outputs": [
    {
     "name": "stdout",
     "output_type": "stream",
     "text": [
      "RECM del modelo de regresión lineal de la región 0: 38.94065197644272\n",
      "RECM del modelo de regresión lineal de la región 1: 44.94590426427794\n",
      "RECM del modelo de regresión lineal de la región 2: 40.02970873393434\n"
     ]
    }
   ],
   "source": [
    "RECM_0 = mean_squared_error(data_0_valid_target, predictions_valid_0)**0.5\n",
    "RECM_1 = mean_squared_error(data_1_valid_target, predictions_valid_1)**0.5\n",
    "RECM_2 = mean_squared_error(data_2_valid_target, predictions_valid_2)**0.5\n",
    "print(\"RECM del modelo de regresión lineal de la región 0:\", RECM_0)\n",
    "print(\"RECM del modelo de regresión lineal de la región 1:\", RECM_1)\n",
    "print(\"RECM del modelo de regresión lineal de la región 2:\", RECM_2)"
   ]
  },
  {
   "cell_type": "markdown",
   "metadata": {},
   "source": [
    "Las tres regiones tienen un promedio de volumen muy similar, siendo la región 2 la de menor volumen. Sin embargo, el RECM difiere entre las regiones siendo el más alto el de la región 1, indicando que el valor predicho del modelo se aleja del valor real de los datos recopilados, o bien, que existe mayor dispersión de los datos del modelo alrededor de la línea del modelo de regresión lineal."
   ]
  },
  {
   "cell_type": "markdown",
   "metadata": {},
   "source": [
    "<div class=\"alert alert-block alert-success\">\n",
    "<b>Comentario de Reviewer</b> <a class=\"tocSkip\"></a>\n",
    "\n",
    "Correcto\n",
    "</div>"
   ]
  },
  {
   "cell_type": "markdown",
   "metadata": {},
   "source": [
    "#### Cálculo de ganancias con el volumen promedio de 200 pozos por región"
   ]
  },
  {
   "cell_type": "code",
   "execution_count": 14,
   "metadata": {},
   "outputs": [],
   "source": [
    "drilling_budget_000 = 100000\n",
    "max_capacity = 200\n",
    "sales_price = 4.5"
   ]
  },
  {
   "cell_type": "markdown",
   "metadata": {},
   "source": [
    "##### Ventas promedio por región"
   ]
  },
  {
   "cell_type": "code",
   "execution_count": 15,
   "metadata": {},
   "outputs": [],
   "source": [
    "total_average_sales_0 = target_mean_0 * sales_price * max_capacity\n",
    "total_average_sales_1 = target_mean_1 * sales_price * max_capacity\n",
    "total_average_sales_2 = target_mean_2 * sales_price * max_capacity"
   ]
  },
  {
   "cell_type": "code",
   "execution_count": 16,
   "metadata": {},
   "outputs": [
    {
     "name": "stdout",
     "output_type": "stream",
     "text": [
      "Ventas con el volumen promedio previsto de la región 0: 85511.02398842144\n",
      "Ventas con el volumen promedio previsto de la región 1: 85709.65553326637\n",
      "Ventas con el volumen promedio previsto de la región 2: 85468.5413712044\n"
     ]
    }
   ],
   "source": [
    "print(\"Ventas con el volumen promedio previsto de la región 0:\", total_average_sales_0)\n",
    "print(\"Ventas con el volumen promedio previsto de la región 1:\", total_average_sales_1)\n",
    "print(\"Ventas con el volumen promedio previsto de la región 2:\", total_average_sales_2)"
   ]
  },
  {
   "cell_type": "markdown",
   "metadata": {},
   "source": [
    "<div class=\"alert alert-block alert-success\">\n",
    "<b>Comentario de Reviewer</b> <a class=\"tocSkip\"></a>\n",
    "\n",
    "Ok, correcto para el promedio.\n",
    "</div>"
   ]
  },
  {
   "cell_type": "markdown",
   "metadata": {},
   "source": [
    "##### Ganancias promedio por región"
   ]
  },
  {
   "cell_type": "code",
   "execution_count": 17,
   "metadata": {},
   "outputs": [],
   "source": [
    "gross_profit_0 = total_average_sales_0 - drilling_budget_000\n",
    "gross_profit_1 = total_average_sales_1 - drilling_budget_000\n",
    "gross_profit_2 = total_average_sales_2 - drilling_budget_000"
   ]
  },
  {
   "cell_type": "code",
   "execution_count": 18,
   "metadata": {
    "scrolled": true
   },
   "outputs": [
    {
     "name": "stdout",
     "output_type": "stream",
     "text": [
      "Ganancias con el volumen promedio de la región 0: -14488.976011578561\n",
      "Ganancias con el volumen promedio de la región 1: -14290.34446673363\n",
      "Ganancias con el volumen promedio de la región 2: -14531.458628795604\n"
     ]
    }
   ],
   "source": [
    "print(\"Ganancias con el volumen promedio de la región 0:\", gross_profit_0)\n",
    "print(\"Ganancias con el volumen promedio de la región 1:\", gross_profit_1)\n",
    "print(\"Ganancias con el volumen promedio de la región 2:\", gross_profit_2)"
   ]
  },
  {
   "cell_type": "markdown",
   "metadata": {},
   "source": [
    "Ninguna región es rentable considerando el volumen promedio de 200 pozos en cada región."
   ]
  },
  {
   "cell_type": "markdown",
   "metadata": {},
   "source": [
    "<div class=\"alert alert-block alert-success\">\n",
    "<b>Comentario de Reviewer</b> <a class=\"tocSkip\"></a>\n",
    "\n",
    "Claro, considerando que el promedio incluye peores y mejores.\n",
    "</div>"
   ]
  },
  {
   "cell_type": "markdown",
   "metadata": {},
   "source": [
    "##### Volumen de reservas suficiente para desarrollar pozos sin pérdidas"
   ]
  },
  {
   "cell_type": "markdown",
   "metadata": {},
   "source": [
    "A continuación se realiza el cálculo del volumen promedio de cada pozo para que al tomar 200 de ellos no se genere pérdida."
   ]
  },
  {
   "cell_type": "code",
   "execution_count": 19,
   "metadata": {},
   "outputs": [],
   "source": [
    "min_total_capacity = drilling_budget_000 / sales_price"
   ]
  },
  {
   "cell_type": "code",
   "execution_count": 20,
   "metadata": {
    "scrolled": true
   },
   "outputs": [
    {
     "name": "stdout",
     "output_type": "stream",
     "text": [
      "Volumen total mínimo de reservas para evitar pérdida 22222.222222222223\n"
     ]
    }
   ],
   "source": [
    "print('Volumen total mínimo de reservas para evitar pérdida', min_total_capacity)"
   ]
  },
  {
   "cell_type": "code",
   "execution_count": 21,
   "metadata": {},
   "outputs": [],
   "source": [
    "min_target_mean = drilling_budget_000 / (sales_price * max_capacity)"
   ]
  },
  {
   "cell_type": "code",
   "execution_count": 22,
   "metadata": {
    "scrolled": true
   },
   "outputs": [
    {
     "name": "stdout",
     "output_type": "stream",
     "text": [
      "Volumen promedio mínimo de las reservas para evitar pérdidas: 111.11111111111111\n"
     ]
    }
   ],
   "source": [
    "print(\"Volumen promedio mínimo de las reservas para evitar pérdidas:\", min_target_mean)"
   ]
  },
  {
   "cell_type": "markdown",
   "metadata": {},
   "source": [
    "Para que las regiones fueran rentables, se requeriría que el volumen promedio mínimo de cada pozo fuera de 111,111."
   ]
  },
  {
   "cell_type": "markdown",
   "metadata": {},
   "source": [
    "<div class=\"alert alert-block alert-success\">\n",
    "<b>Comentario de Reviewer</b> <a class=\"tocSkip\"></a>\n",
    "\n",
    "Correctos los resultados\n",
    "</div>"
   ]
  },
  {
   "cell_type": "markdown",
   "metadata": {},
   "source": [
    "#### Cálculo de ganancia con selección de los 200 pozos más abundantes"
   ]
  },
  {
   "cell_type": "markdown",
   "metadata": {},
   "source": [
    "A continuación se calcula la cantidad de ganancia y el margen que se genera cuando se escogen deliberadamente los mejores 200 pozos en cada región, utilizando los datos de predicción del modelo."
   ]
  },
  {
   "cell_type": "code",
   "execution_count": 23,
   "metadata": {},
   "outputs": [],
   "source": [
    "predictions_region_0 = pd.DataFrame(data = predictions_valid_0, columns = ['predicted_product_region_0']).sort_values(by= 'predicted_product_region_0', ascending=False)\n",
    "predictions_region_1 = pd.DataFrame(data = predictions_valid_1, columns = ['predicted_product_region_1']).sort_values(by= 'predicted_product_region_1', ascending=False)\n",
    "predictions_region_2 = pd.DataFrame(data = predictions_valid_2, columns = ['predicted_product_region_2']).sort_values(by= 'predicted_product_region_2', ascending=False)"
   ]
  },
  {
   "cell_type": "code",
   "execution_count": 24,
   "metadata": {
    "scrolled": true
   },
   "outputs": [],
   "source": [
    "predictions_region_0 = predictions_region_0.reset_index(drop=True)\n",
    "predictions_region_1 = predictions_region_1.reset_index(drop=True)\n",
    "predictions_region_2 = predictions_region_2.reset_index(drop=True)"
   ]
  },
  {
   "cell_type": "code",
   "execution_count": 25,
   "metadata": {},
   "outputs": [],
   "source": [
    "total_max_sales_0 = sales_price * predictions_region_0.loc[:200,'predicted_product_region_0'].sum()\n",
    "total_max_sales_1 = sales_price * predictions_region_1.loc[:200,'predicted_product_region_1'].sum()\n",
    "total_max_sales_2 = sales_price * predictions_region_2.loc[:200,'predicted_product_region_2'].sum()"
   ]
  },
  {
   "cell_type": "code",
   "execution_count": 26,
   "metadata": {},
   "outputs": [],
   "source": [
    "projected_gross_profit_0 = total_max_sales_0 - drilling_budget_000\n",
    "projected_gross_profit_1 = total_max_sales_1 - drilling_budget_000\n",
    "projected_gross_profit_2 = total_max_sales_2 - drilling_budget_000"
   ]
  },
  {
   "cell_type": "code",
   "execution_count": 27,
   "metadata": {},
   "outputs": [
    {
     "name": "stdout",
     "output_type": "stream",
     "text": [
      "Ganancias estimadas con evaluación de la región 0: 31148.294175369374\n",
      "Ganancias estimadas con evaluación de la región 1: -326.74118252946937\n",
      "Ganancias estimadas con evaluación de la región 2: 33858.35894855796\n"
     ]
    }
   ],
   "source": [
    "print(\"Ganancias estimadas con evaluación de la región 0:\", projected_gross_profit_0)\n",
    "print(\"Ganancias estimadas con evaluación de la región 1:\", projected_gross_profit_1)\n",
    "print(\"Ganancias estimadas con evaluación de la región 2:\", projected_gross_profit_2)"
   ]
  },
  {
   "cell_type": "code",
   "execution_count": 28,
   "metadata": {},
   "outputs": [],
   "source": [
    "margin_to_sales_0 = projected_gross_profit_0 / total_max_sales_0\n",
    "margin_to_sales_1 = projected_gross_profit_1 / total_max_sales_1\n",
    "margin_to_sales_2 = projected_gross_profit_2 / total_max_sales_2"
   ]
  },
  {
   "cell_type": "code",
   "execution_count": 29,
   "metadata": {
    "scrolled": true
   },
   "outputs": [
    {
     "name": "stdout",
     "output_type": "stream",
     "text": [
      "Margen de ganancia/pérdida estimado de la región 0: 23.750437907883406\n",
      "Margen de ganancia/pérdida estimado de la región 1: -0.32781228025043646\n",
      "Margen de ganancia/pérdida estimado de la región 2: 25.29416856333178\n"
     ]
    }
   ],
   "source": [
    "print('Margen de ganancia/pérdida estimado de la región 0:', margin_to_sales_0*100)\n",
    "print('Margen de ganancia/pérdida estimado de la región 1:', margin_to_sales_1*100)\n",
    "print('Margen de ganancia/pérdida estimado de la región 2:', margin_to_sales_2*100)"
   ]
  },
  {
   "cell_type": "markdown",
   "metadata": {},
   "source": [
    "<div class=\"alert alert-block alert-success\">\n",
    "<b>Comentario de Reviewer</b> <a class=\"tocSkip\"></a>\n",
    "\n",
    "Muy bien\n",
    "</div>"
   ]
  },
  {
   "cell_type": "markdown",
   "metadata": {},
   "source": [
    "Podemos observar que la región con las ganancias potenciales más altas es la región 2, y la región con pérdidas potenciales más grandes es la región 1."
   ]
  },
  {
   "cell_type": "markdown",
   "metadata": {},
   "source": [
    "#### Cálculo de riesgos y ganancias utilizando bootstrapping"
   ]
  },
  {
   "cell_type": "markdown",
   "metadata": {},
   "source": [
    "A continuación se calculará el promedio de 1000 corridas de las ganancias de los mejores 200 pozos una vez que el modelo ha evaluado 500 puntos aleatorios."
   ]
  },
  {
   "cell_type": "code",
   "execution_count": 30,
   "metadata": {},
   "outputs": [],
   "source": [
    "def profit(volume, budget, top_wells):\n",
    "    volume_sorted = volume.sort_values(ascending=False)\n",
    "    selected_volume = volume_sorted[:top_wells]\n",
    "    return sales_price * selected_volume.sum() - budget"
   ]
  },
  {
   "cell_type": "code",
   "execution_count": 31,
   "metadata": {},
   "outputs": [],
   "source": [
    "state = np.random.RandomState(12345)\n",
    "profit_0 = []\n",
    "profit_1 = []\n",
    "profit_2 = []\n",
    "\n",
    "for i in range(1000):\n",
    "    \n",
    "    subsample_0 = predictions_region_0['predicted_product_region_0'].sample(n=500, replace=True, random_state=state)\n",
    "    subsample_1 = predictions_region_1['predicted_product_region_1'].sample(n=500, replace=True, random_state=state)\n",
    "    subsample_2 = predictions_region_2['predicted_product_region_2'].sample(n=500, replace=True, random_state=state)\n",
    "    \n",
    "    profit_0.append(profit(subsample_0, drilling_budget_000, 200))\n",
    "    profit_1.append(profit(subsample_1, drilling_budget_000, 200))\n",
    "    profit_2.append(profit(subsample_2, drilling_budget_000, 200))\n",
    "    \n",
    "profit_0 = pd.Series(profit_0)\n",
    "profit_1 = pd.Series(profit_1)\n",
    "profit_2 = pd.Series(profit_2)"
   ]
  },
  {
   "cell_type": "code",
   "execution_count": 32,
   "metadata": {},
   "outputs": [],
   "source": [
    "lower_0 = profit_0.quantile(0.05)\n",
    "mean_0 = profit_0.mean()\n",
    "upper_0 = profit_0.quantile(0.95)\n",
    "\n",
    "lower_1 = profit_1.quantile(0.05)\n",
    "mean_1 = profit_1.mean()\n",
    "upper_1 = profit_1.quantile(0.95)\n",
    "\n",
    "lower_2 = profit_2.quantile(0.05)\n",
    "mean_2 = profit_2.mean()\n",
    "upper_2 = profit_2.quantile(0.95)"
   ]
  },
  {
   "cell_type": "code",
   "execution_count": 33,
   "metadata": {},
   "outputs": [
    {
     "name": "stdout",
     "output_type": "stream",
     "text": [
      "Límite inferior del intervalo de confianza del 95% : -25.54942155009412\n",
      "Beneficio total medio de los 200 mejores pozos     : 1556.459524856751\n",
      "Límite superior del intervalo de confianza del 95% : 3109.8850240197585\n"
     ]
    }
   ],
   "source": [
    "print('Límite inferior del intervalo de confianza del 95% :', lower_0)\n",
    "print('Beneficio total medio de los 200 mejores pozos     :', mean_0)\n",
    "print('Límite superior del intervalo de confianza del 95% :', upper_0)"
   ]
  },
  {
   "cell_type": "markdown",
   "metadata": {},
   "source": [
    "Para la región 0 existe la posibilidad de obtener pérdidas al excavar en los mejores 200 puntos de 500 evaluados por lo que no es conveniente trabajar en esta zona."
   ]
  },
  {
   "cell_type": "code",
   "execution_count": 34,
   "metadata": {},
   "outputs": [
    {
     "name": "stdout",
     "output_type": "stream",
     "text": [
      "Límite inferior del intervalo de confianza del 95% : -5995.832976850825\n",
      "Beneficio total medio de los 200 mejores pozos     : -5273.866823644733\n",
      "Límite superior del intervalo de confianza del 95% : -4530.039093315605\n"
     ]
    }
   ],
   "source": [
    "print('Límite inferior del intervalo de confianza del 95% :', lower_1)\n",
    "print('Beneficio total medio de los 200 mejores pozos     :', mean_1)\n",
    "print('Límite superior del intervalo de confianza del 95% :', upper_1)"
   ]
  },
  {
   "cell_type": "markdown",
   "metadata": {},
   "source": [
    "Para la región 1 existe el 100% de posibilidad de obtener pérdidas al excavar en los mejores 200 puntos de 500 evaluados por lo que no es recomendable trabajar en esta zona."
   ]
  },
  {
   "cell_type": "code",
   "execution_count": 35,
   "metadata": {},
   "outputs": [
    {
     "name": "stdout",
     "output_type": "stream",
     "text": [
      "Límite inferior del intervalo de confianza del 95% : 1077.3237722931335\n",
      "Beneficio total medio de los 200 mejores pozos     : 2693.4637347394973\n",
      "Límite superior del intervalo de confianza del 95% : 4322.449298801707\n"
     ]
    }
   ],
   "source": [
    "print('Límite inferior del intervalo de confianza del 95% :', lower_2)\n",
    "print('Beneficio total medio de los 200 mejores pozos     :', mean_2)\n",
    "print('Límite superior del intervalo de confianza del 95% :', upper_2)"
   ]
  },
  {
   "cell_type": "markdown",
   "metadata": {},
   "source": [
    "Para la región 2 existe 0% de posibilidad de obtener pérdidas al excavar en los mejores 200 puntos de 500 evaluados por lo que es recomendable trabajar en esta zona."
   ]
  },
  {
   "cell_type": "markdown",
   "metadata": {},
   "source": [
    "<div class=\"alert alert-block alert-success\">\n",
    "<b>Comentario de Reviewer</b> <a class=\"tocSkip\"></a>\n",
    "\n",
    "Correcto con el procedimiento de bootstrapping\n",
    "</div>"
   ]
  },
  {
   "cell_type": "markdown",
   "metadata": {},
   "source": [
    "##### Riesgo de pérdidas utilizando la media y desviación estándar muestrales"
   ]
  },
  {
   "cell_type": "markdown",
   "metadata": {},
   "source": [
    "A continuación se calculará el intervalo de confianza de cada una de los promedios de ganancia en cada región, para determinar el riesgo de pérdida en cada una de ellas."
   ]
  },
  {
   "cell_type": "code",
   "execution_count": 36,
   "metadata": {},
   "outputs": [
    {
     "name": "stdout",
     "output_type": "stream",
     "text": [
      "Intervalo de confianza del 95 %: (1497.3336782360707, 1615.5853714774312)\n"
     ]
    }
   ],
   "source": [
    "confidence_interval_0 = st.t.interval(\n",
    "    0.95, len(profit_0)-1, loc=profit_0.mean(), scale=profit_0.sem())\n",
    "\n",
    "print('Intervalo de confianza del 95 %:', confidence_interval_0)"
   ]
  },
  {
   "cell_type": "markdown",
   "metadata": {},
   "source": [
    "El 5% de las veces que se corra esta prueba, la media poblacional no estará contenida dentro del intervalo de confianza de ganancias entre $1497 y $1615. Lo que quiere decir que las ganancias serán más altas o bajas que los límites de confianza."
   ]
  },
  {
   "cell_type": "code",
   "execution_count": 37,
   "metadata": {},
   "outputs": [
    {
     "name": "stdout",
     "output_type": "stream",
     "text": [
      "Intervalo de confianza del 95 %: (-5300.887959595282, -5246.845687694184)\n"
     ]
    }
   ],
   "source": [
    "confidence_interval_1 = st.t.interval(\n",
    "    0.95, len(profit_1)-1, loc=profit_1.mean(), scale=profit_1.sem())\n",
    "\n",
    "print('Intervalo de confianza del 95 %:', confidence_interval_1)"
   ]
  },
  {
   "cell_type": "markdown",
   "metadata": {},
   "source": [
    "En esta región particular, no es conveniente realizar ningún pozo. De acuerdo con el modelo, las exploraciones proporcionarán pozos de muy bajo volumen que no justifican el costo de excavación de los 200 mejores pozos usando 500 pozos aleatorios."
   ]
  },
  {
   "cell_type": "code",
   "execution_count": 38,
   "metadata": {},
   "outputs": [
    {
     "name": "stdout",
     "output_type": "stream",
     "text": [
      "Intervalo de confianza del 95 %: (2632.5960136380104, 2754.3314558409843)\n"
     ]
    }
   ],
   "source": [
    "confidence_interval_2 = st.t.interval(\n",
    "    0.95, len(profit_2)-1, loc=profit_2.mean(), scale=profit_2.sem())\n",
    "\n",
    "print('Intervalo de confianza del 95 %:', confidence_interval_2)"
   ]
  },
  {
   "cell_type": "markdown",
   "metadata": {},
   "source": [
    "El 5% de las veces que se corra esta prueba, la media poblacional no estará contenida dentro del intervalo de confianza de ganancias entre $2632 y $2754. Lo que quiere decir que las ganancias serán más altas o bajas que los límites de confianza."
   ]
  },
  {
   "cell_type": "markdown",
   "metadata": {},
   "source": [
    "La región de exploración que mejores ganancias proporcionará de acuerdo con el modelo es la región 2, cada vez que se realicen excavaciones en puntos aleatorios es altamente probable que los 200 mejores pozos proporcionen ganancias por encima del costo de excavación."
   ]
  },
  {
   "cell_type": "markdown",
   "metadata": {},
   "source": [
    "<div class=\"alert alert-block alert-success\">\n",
    "<b>Comentario de Reviewer</b> <a class=\"tocSkip\"></a>\n",
    "\n",
    "Excelente!\n",
    "</div>"
   ]
  },
  {
   "cell_type": "code",
   "execution_count": null,
   "metadata": {},
   "outputs": [],
   "source": []
  }
 ],
 "metadata": {
  "kernelspec": {
   "display_name": "Python 3 (ipykernel)",
   "language": "python",
   "name": "python3"
  },
  "language_info": {
   "codemirror_mode": {
    "name": "ipython",
    "version": 3
   },
   "file_extension": ".py",
   "mimetype": "text/x-python",
   "name": "python",
   "nbconvert_exporter": "python",
   "pygments_lexer": "ipython3",
   "version": "3.9.5"
  },
  "toc": {
   "base_numbering": 1,
   "nav_menu": {},
   "number_sections": true,
   "sideBar": true,
   "skip_h1_title": true,
   "title_cell": "Table of Contents",
   "title_sidebar": "Contents",
   "toc_cell": false,
   "toc_position": {},
   "toc_section_display": true,
   "toc_window_display": false
  }
 },
 "nbformat": 4,
 "nbformat_minor": 2
}
